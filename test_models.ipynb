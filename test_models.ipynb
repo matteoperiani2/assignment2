{
 "cells": [
  {
   "cell_type": "code",
   "execution_count": 1,
   "metadata": {},
   "outputs": [],
   "source": [
    "%load_ext autoreload\n",
    "%autoreload 2"
   ]
  },
  {
   "cell_type": "code",
   "execution_count": 41,
   "metadata": {},
   "outputs": [],
   "source": [
    "import numpy as np\n",
    "from src.pipeline import *\n",
    "from src.utils import PropertyDict, print_conversation\n",
    "from datasets.utils.logging import disable_progress_bar\n",
    "import pandas as pd\n",
    "from src.evaluation import evaluate_conversation\n",
    "from src.train import Linear"
   ]
  },
  {
   "cell_type": "code",
   "execution_count": 7,
   "metadata": {},
   "outputs": [],
   "source": [
    "hyperparameters = PropertyDict(\n",
    "    seed=42,\n",
    "    checkpoint_name=\"bert_tiny\",\n",
    "    model_name=\"bert_tiny\",\n",
    "    model_type=\"encoder_decoder\",\n",
    "    initialize_cross_attention=True,\n",
    "    # yng_loss_weight=1.0,\n",
    "    # rationale_loss_weight=1.0,\n",
    "    # generative_loss_weight=1.0,\n",
    "    yng_loss_weight=5.,\n",
    "    rationale_loss_weight=3.,\n",
    "    generative_loss_weight=1.,\n",
    "    batch_size=8,\n",
    "    val_batch_size=16,\n",
    "    generate_batch_size=128,\n",
    "    num_workers=0,\n",
    "    num_epochs=3,\n",
    "    optimizer_name=\"AdamW\",\n",
    "    # learning_rate=5e-3,\n",
    "    learning_rate=2e-5,\n",
    "    loss_learning_rate=1e-1,\n",
    "    scheduler=\"linear\",\n",
    "    warmup_fraction=0.1,\n",
    "    accumulation_steps=1,\n",
    "    gradient_clip = 1.0,\n",
    "    mixed_precision=\"fp16\",\n",
    "    checkpoint_interval=1000,\n",
    "    log_interval=1000,\n",
    "    cpu=False\n",
    ")"
   ]
  },
  {
   "cell_type": "code",
   "execution_count": 4,
   "metadata": {},
   "outputs": [
    {
     "name": "stderr",
     "output_type": "stream",
     "text": [
      "Failed to detect the name of this notebook, you can set it manually with the WANDB_NOTEBOOK_NAME environment variable to enable code saving.\n",
      "\u001b[34m\u001b[1mwandb\u001b[0m: Currently logged in as: \u001b[33mmatteo-periani\u001b[0m. Use \u001b[1m`wandb login --relogin`\u001b[0m to force relogin\n"
     ]
    },
    {
     "data": {
      "text/html": [
       "Tracking run with wandb version 0.15.8"
      ],
      "text/plain": [
       "<IPython.core.display.HTML object>"
      ]
     },
     "metadata": {},
     "output_type": "display_data"
    },
    {
     "data": {
      "text/html": [
       "Run data is saved locally in <code>/home/matteo/uni/nlp/nlp_assignment2/wandb/run-20230825_174752-wr5hrgdm</code>"
      ],
      "text/plain": [
       "<IPython.core.display.HTML object>"
      ]
     },
     "metadata": {},
     "output_type": "display_data"
    },
    {
     "data": {
      "text/html": [
       "Syncing run <strong><a href='https://wandb.ai/matteo-periani/nlp_assignment2/runs/wr5hrgdm' target=\"_blank\">rich-haze-15</a></strong> to <a href='https://wandb.ai/matteo-periani/nlp_assignment2' target=\"_blank\">Weights & Biases</a> (<a href='https://wandb.me/run' target=\"_blank\">docs</a>)<br/>"
      ],
      "text/plain": [
       "<IPython.core.display.HTML object>"
      ]
     },
     "metadata": {},
     "output_type": "display_data"
    },
    {
     "data": {
      "text/html": [
       " View project at <a href='https://wandb.ai/matteo-periani/nlp_assignment2' target=\"_blank\">https://wandb.ai/matteo-periani/nlp_assignment2</a>"
      ],
      "text/plain": [
       "<IPython.core.display.HTML object>"
      ]
     },
     "metadata": {},
     "output_type": "display_data"
    },
    {
     "data": {
      "text/html": [
       " View run at <a href='https://wandb.ai/matteo-periani/nlp_assignment2/runs/wr5hrgdm' target=\"_blank\">https://wandb.ai/matteo-periani/nlp_assignment2/runs/wr5hrgdm</a>"
      ],
      "text/plain": [
       "<IPython.core.display.HTML object>"
      ]
     },
     "metadata": {},
     "output_type": "display_data"
    },
    {
     "name": "stderr",
     "output_type": "stream",
     "text": [
      "Some weights of the model checkpoint at prajjwal1/bert-tiny were not used when initializing BertModel: ['cls.predictions.transform.LayerNorm.bias', 'cls.seq_relationship.weight', 'cls.predictions.transform.dense.bias', 'cls.predictions.decoder.weight', 'cls.predictions.bias', 'cls.seq_relationship.bias', 'cls.predictions.transform.LayerNorm.weight', 'cls.predictions.transform.dense.weight', 'cls.predictions.decoder.bias']\n",
      "- This IS expected if you are initializing BertModel from the checkpoint of a model trained on another task or with another architecture (e.g. initializing a BertForSequenceClassification model from a BertForPreTraining model).\n",
      "- This IS NOT expected if you are initializing BertModel from the checkpoint of a model that you expect to be exactly identical (initializing a BertForSequenceClassification model from a BertForSequenceClassification model).\n",
      "Some weights of the model checkpoint at prajjwal1/bert-tiny were not used when initializing BertLMHeadModel: ['cls.seq_relationship.weight', 'cls.seq_relationship.bias']\n",
      "- This IS expected if you are initializing BertLMHeadModel from the checkpoint of a model trained on another task or with another architecture (e.g. initializing a BertForSequenceClassification model from a BertForPreTraining model).\n",
      "- This IS NOT expected if you are initializing BertLMHeadModel from the checkpoint of a model that you expect to be exactly identical (initializing a BertForSequenceClassification model from a BertForSequenceClassification model).\n",
      "Some weights of BertLMHeadModel were not initialized from the model checkpoint at prajjwal1/bert-tiny and are newly initialized: ['bert.encoder.layer.0.crossattention.self.query.bias', 'bert.encoder.layer.1.crossattention.self.query.bias', 'bert.encoder.layer.0.crossattention.output.dense.bias', 'bert.encoder.layer.0.crossattention.output.LayerNorm.weight', 'bert.encoder.layer.1.crossattention.self.key.weight', 'bert.encoder.layer.1.crossattention.self.query.weight', 'bert.encoder.layer.1.crossattention.self.value.weight', 'bert.encoder.layer.0.crossattention.self.key.bias', 'bert.encoder.layer.0.crossattention.output.dense.weight', 'bert.encoder.layer.1.crossattention.output.LayerNorm.bias', 'bert.encoder.layer.1.crossattention.output.LayerNorm.weight', 'bert.encoder.layer.0.crossattention.self.query.weight', 'bert.encoder.layer.0.crossattention.self.key.weight', 'bert.encoder.layer.1.crossattention.self.key.bias', 'bert.encoder.layer.0.crossattention.output.LayerNorm.bias', 'bert.encoder.layer.0.crossattention.self.value.weight', 'bert.encoder.layer.1.crossattention.self.value.bias', 'bert.encoder.layer.1.crossattention.output.dense.bias', 'bert.encoder.layer.0.crossattention.self.value.bias', 'bert.encoder.layer.1.crossattention.output.dense.weight']\n",
      "You should probably TRAIN this model on a down-stream task to be able to use it for predictions and inference.\n",
      "The following encoder weights were not tied to the decoder ['bert/pooler']\n",
      "Loading cached shuffled indices for dataset at /home/matteo/uni/nlp/nlp_assignment2/data/train/train_no_history/bert_tiny/train/cache-63078ed47e5b4d10.arrow\n",
      "Loading cached shuffled indices for dataset at /home/matteo/uni/nlp/nlp_assignment2/data/train/train_no_history/bert_tiny/validation/cache-6228d23398cad876.arrow\n"
     ]
    },
    {
     "name": "stdout",
     "output_type": "stream",
     "text": [
      "Cross-attention has been initialized with self-attention weights.\n",
      "QAEncoderDecoderModel(\n",
      "  (encoder): QAEncoder(\n",
      "    (encoder): BertModel(\n",
      "      (embeddings): BertEmbeddings(\n",
      "        (word_embeddings): Embedding(30522, 128, padding_idx=0)\n",
      "        (position_embeddings): Embedding(512, 128)\n",
      "        (token_type_embeddings): Embedding(2, 128)\n",
      "        (LayerNorm): LayerNorm((128,), eps=1e-12, elementwise_affine=True)\n",
      "        (dropout): Dropout(p=0.1, inplace=False)\n",
      "      )\n",
      "      (encoder): BertEncoder(\n",
      "        (layer): ModuleList(\n",
      "          (0-1): 2 x BertLayer(\n",
      "            (attention): BertAttention(\n",
      "              (self): BertSelfAttention(\n",
      "                (query): Linear(in_features=128, out_features=128, bias=True)\n",
      "                (key): Linear(in_features=128, out_features=128, bias=True)\n",
      "                (value): Linear(in_features=128, out_features=128, bias=True)\n",
      "                (dropout): Dropout(p=0.1, inplace=False)\n",
      "              )\n",
      "              (output): BertSelfOutput(\n",
      "                (dense): Linear(in_features=128, out_features=128, bias=True)\n",
      "                (LayerNorm): LayerNorm((128,), eps=1e-12, elementwise_affine=True)\n",
      "                (dropout): Dropout(p=0.1, inplace=False)\n",
      "              )\n",
      "            )\n",
      "            (intermediate): BertIntermediate(\n",
      "              (dense): Linear(in_features=128, out_features=512, bias=True)\n",
      "              (intermediate_act_fn): GELUActivation()\n",
      "            )\n",
      "            (output): BertOutput(\n",
      "              (dense): Linear(in_features=512, out_features=128, bias=True)\n",
      "              (LayerNorm): LayerNorm((128,), eps=1e-12, elementwise_affine=True)\n",
      "              (dropout): Dropout(p=0.1, inplace=False)\n",
      "            )\n",
      "          )\n",
      "        )\n",
      "      )\n",
      "      (pooler): BertPooler(\n",
      "        (dense): Linear(in_features=128, out_features=128, bias=True)\n",
      "        (activation): Tanh()\n",
      "      )\n",
      "    )\n",
      "    (rationale_head): TokenSelectionHead(\n",
      "      (dense): Linear(in_features=128, out_features=128, bias=False)\n",
      "      (act_fn): ReLU()\n",
      "      (hidden_to_logit): Linear(in_features=128, out_features=1, bias=False)\n",
      "    )\n",
      "    (yes_no_gen_head): YesNoGenHead(\n",
      "      (dense): Linear(in_features=128, out_features=128, bias=False)\n",
      "      (act_fn): ReLU()\n",
      "      (hidden_to_logit): Linear(in_features=128, out_features=1, bias=False)\n",
      "      (softmax): Softmax(dim=-2)\n",
      "      (dropout): Dropout(p=0.1, inplace=False)\n",
      "      (classifier): Linear(in_features=256, out_features=3, bias=True)\n",
      "    )\n",
      "  )\n",
      "  (decoder): BertLMHeadModel(\n",
      "    (bert): BertModel(\n",
      "      (embeddings): BertEmbeddings(\n",
      "        (word_embeddings): Embedding(30522, 128, padding_idx=0)\n",
      "        (position_embeddings): Embedding(512, 128)\n",
      "        (token_type_embeddings): Embedding(2, 128)\n",
      "        (LayerNorm): LayerNorm((128,), eps=1e-12, elementwise_affine=True)\n",
      "        (dropout): Dropout(p=0.1, inplace=False)\n",
      "      )\n",
      "      (encoder): BertEncoder(\n",
      "        (layer): ModuleList(\n",
      "          (0-1): 2 x BertLayer(\n",
      "            (attention): BertAttention(\n",
      "              (self): BertSelfAttention(\n",
      "                (query): Linear(in_features=128, out_features=128, bias=True)\n",
      "                (key): Linear(in_features=128, out_features=128, bias=True)\n",
      "                (value): Linear(in_features=128, out_features=128, bias=True)\n",
      "                (dropout): Dropout(p=0.1, inplace=False)\n",
      "              )\n",
      "              (output): BertSelfOutput(\n",
      "                (dense): Linear(in_features=128, out_features=128, bias=True)\n",
      "                (LayerNorm): LayerNorm((128,), eps=1e-12, elementwise_affine=True)\n",
      "                (dropout): Dropout(p=0.1, inplace=False)\n",
      "              )\n",
      "            )\n",
      "            (crossattention): BertAttention(\n",
      "              (self): BertSelfAttention(\n",
      "                (query): Linear(in_features=128, out_features=128, bias=True)\n",
      "                (key): Linear(in_features=128, out_features=128, bias=True)\n",
      "                (value): Linear(in_features=128, out_features=128, bias=True)\n",
      "                (dropout): Dropout(p=0.1, inplace=False)\n",
      "              )\n",
      "              (output): BertSelfOutput(\n",
      "                (dense): Linear(in_features=128, out_features=128, bias=True)\n",
      "                (LayerNorm): LayerNorm((128,), eps=1e-12, elementwise_affine=True)\n",
      "                (dropout): Dropout(p=0.1, inplace=False)\n",
      "              )\n",
      "            )\n",
      "            (intermediate): BertIntermediate(\n",
      "              (dense): Linear(in_features=128, out_features=512, bias=True)\n",
      "              (intermediate_act_fn): GELUActivation()\n",
      "            )\n",
      "            (output): BertOutput(\n",
      "              (dense): Linear(in_features=512, out_features=128, bias=True)\n",
      "              (LayerNorm): LayerNorm((128,), eps=1e-12, elementwise_affine=True)\n",
      "              (dropout): Dropout(p=0.1, inplace=False)\n",
      "            )\n",
      "          )\n",
      "        )\n",
      "      )\n",
      "    )\n",
      "    (cls): BertOnlyMLMHead(\n",
      "      (predictions): BertLMPredictionHead(\n",
      "        (transform): BertPredictionHeadTransform(\n",
      "          (dense): Linear(in_features=128, out_features=128, bias=True)\n",
      "          (transform_act_fn): GELUActivation()\n",
      "          (LayerNorm): LayerNorm((128,), eps=1e-12, elementwise_affine=True)\n",
      "        )\n",
      "        (decoder): Linear(in_features=128, out_features=30522, bias=True)\n",
      "      )\n",
      "    )\n",
      "  )\n",
      ")\n"
     ]
    },
    {
     "name": "stderr",
     "output_type": "stream",
     "text": [
      "  0%|          | 0/8025 [00:00<?, ?it/s]You're using a BertTokenizerFast tokenizer. Please note that with a fast tokenizer, using the `__call__` method is faster than using a method to encode the text followed by a call to the `pad` method to get a padded encoding.\n",
      " 12%|█▏        | 1001/8025 [01:59<9:58:32,  5.11s/it]"
     ]
    },
    {
     "name": "stdout",
     "output_type": "stream",
     "text": [
      "Iteration:   1000\ttrain loss: 13.0747\tval loss: 8.8147\tlr: 0.000019\n"
     ]
    },
    {
     "name": "stderr",
     "output_type": "stream",
     "text": [
      " 25%|██▍       | 2001/8025 [04:01<8:33:15,  5.11s/it]"
     ]
    },
    {
     "name": "stdout",
     "output_type": "stream",
     "text": [
      "Iteration:   2000\ttrain loss: 7.9149\tval loss: 8.4364\tlr: 0.000017\n"
     ]
    },
    {
     "name": "stderr",
     "output_type": "stream",
     "text": [
      " 37%|███▋      | 3001/8025 [06:02<7:05:12,  5.08s/it]"
     ]
    },
    {
     "name": "stdout",
     "output_type": "stream",
     "text": [
      "Iteration:   3000\ttrain loss: 7.4832\tval loss: 8.3853\tlr: 0.000014\n"
     ]
    },
    {
     "name": "stderr",
     "output_type": "stream",
     "text": [
      " 50%|████▉     | 4001/8025 [08:01<5:36:33,  5.02s/it]"
     ]
    },
    {
     "name": "stdout",
     "output_type": "stream",
     "text": [
      "Iteration:   4000\ttrain loss: 7.3497\tval loss: 8.3004\tlr: 0.000011\n"
     ]
    },
    {
     "name": "stderr",
     "output_type": "stream",
     "text": [
      " 62%|██████▏   | 5001/8025 [10:01<4:13:55,  5.04s/it]"
     ]
    },
    {
     "name": "stdout",
     "output_type": "stream",
     "text": [
      "Iteration:   5000\ttrain loss: 7.2292\tval loss: 8.1905\tlr: 0.000008\n"
     ]
    },
    {
     "name": "stderr",
     "output_type": "stream",
     "text": [
      " 75%|███████▍  | 6001/8025 [11:59<2:48:06,  4.98s/it]"
     ]
    },
    {
     "name": "stdout",
     "output_type": "stream",
     "text": [
      "Iteration:   6000\ttrain loss: 7.1819\tval loss: 8.0969\tlr: 0.000006\n"
     ]
    },
    {
     "name": "stderr",
     "output_type": "stream",
     "text": [
      " 87%|████████▋ | 7001/8025 [13:57<1:25:17,  5.00s/it]"
     ]
    },
    {
     "name": "stdout",
     "output_type": "stream",
     "text": [
      "Iteration:   7000\ttrain loss: 7.1858\tval loss: 8.0393\tlr: 0.000003\n"
     ]
    },
    {
     "name": "stderr",
     "output_type": "stream",
     "text": [
      "100%|█████████▉| 8001/8025 [15:55<02:00,  5.04s/it]  "
     ]
    },
    {
     "name": "stdout",
     "output_type": "stream",
     "text": [
      "Iteration:   8000\ttrain loss: 7.1346\tval loss: 8.0223\tlr: 0.000000\n"
     ]
    },
    {
     "name": "stderr",
     "output_type": "stream",
     "text": [
      "100%|██████████| 8025/8025 [16:10<00:00,  5.36it/s]"
     ]
    },
    {
     "name": "stdout",
     "output_type": "stream",
     "text": [
      "Iteration:   8025\ttrain loss: 7.3519\tval loss: nan\tlr: 0.000000\n"
     ]
    },
    {
     "name": "stderr",
     "output_type": "stream",
     "text": [
      "100%|██████████| 8025/8025 [16:31<00:00,  8.10it/s]\n",
      "Parameter 'function'=<function evaluate_tokenized_dataset.<locals>.<lambda> at 0x7fa16fc52fc0> of the transform datasets.arrow_dataset.Dataset._map_single couldn't be hashed properly, a random hash was used instead. Make sure your transforms and parameters are serializable with pickle or dill for the dataset fingerprinting and caching to work. If you reuse this transform, the caching mechanism will consider it to be different from the previous calls and recompute everything. This warning is only showed once. Subsequent hashing failures won't be showed.\n"
     ]
    },
    {
     "data": {
      "application/vnd.jupyter.widget-view+json": {
       "model_id": "4b900ea7dca64a389f1fa3a5ced58241",
       "version_major": 2,
       "version_minor": 0
      },
      "text/plain": [
       "Map:   0%|          | 0/85574 [00:00<?, ? examples/s]"
      ]
     },
     "metadata": {},
     "output_type": "display_data"
    },
    {
     "data": {
      "application/vnd.jupyter.widget-view+json": {
       "model_id": "2d7d5df6c3134d12a4f201dfb1841cec",
       "version_major": 2,
       "version_minor": 0
      },
      "text/plain": [
       "Map:   0%|          | 0/85574 [00:00<?, ? examples/s]"
      ]
     },
     "metadata": {},
     "output_type": "display_data"
    },
    {
     "data": {
      "application/vnd.jupyter.widget-view+json": {
       "model_id": "2ff80630e5a445caa0289f66cd04fcf3",
       "version_major": 2,
       "version_minor": 0
      },
      "text/plain": [
       "Map:   0%|          | 0/85574 [00:00<?, ? examples/s]"
      ]
     },
     "metadata": {},
     "output_type": "display_data"
    },
    {
     "data": {
      "application/vnd.jupyter.widget-view+json": {
       "model_id": "ed0332244a1f47fdac7d7d5255287d4d",
       "version_major": 2,
       "version_minor": 0
      },
      "text/plain": [
       "Map:   0%|          | 0/85574 [00:00<?, ? examples/s]"
      ]
     },
     "metadata": {},
     "output_type": "display_data"
    },
    {
     "data": {
      "application/vnd.jupyter.widget-view+json": {
       "model_id": "e3d783c85be8448284bf3466a056a71c",
       "version_major": 2,
       "version_minor": 0
      },
      "text/plain": [
       "Map:   0%|          | 0/85574 [00:00<?, ? examples/s]"
      ]
     },
     "metadata": {},
     "output_type": "display_data"
    },
    {
     "data": {
      "application/vnd.jupyter.widget-view+json": {
       "model_id": "ae76b8186bdb47a098e9ee73ddf61126",
       "version_major": 2,
       "version_minor": 0
      },
      "text/plain": [
       "Map:   0%|          | 0/85574 [00:00<?, ? examples/s]"
      ]
     },
     "metadata": {},
     "output_type": "display_data"
    },
    {
     "data": {
      "application/vnd.jupyter.widget-view+json": {
       "model_id": "ded3e0cf984649e19c8d016bbea20244",
       "version_major": 2,
       "version_minor": 0
      },
      "text/plain": [
       "Map:   0%|          | 0/21441 [00:00<?, ? examples/s]"
      ]
     },
     "metadata": {},
     "output_type": "display_data"
    },
    {
     "data": {
      "application/vnd.jupyter.widget-view+json": {
       "model_id": "a756c14f3e494985b1250534809e944b",
       "version_major": 2,
       "version_minor": 0
      },
      "text/plain": [
       "Map:   0%|          | 0/21441 [00:00<?, ? examples/s]"
      ]
     },
     "metadata": {},
     "output_type": "display_data"
    },
    {
     "data": {
      "application/vnd.jupyter.widget-view+json": {
       "model_id": "96beade38786401baba507989022ace8",
       "version_major": 2,
       "version_minor": 0
      },
      "text/plain": [
       "Map:   0%|          | 0/21441 [00:00<?, ? examples/s]"
      ]
     },
     "metadata": {},
     "output_type": "display_data"
    },
    {
     "data": {
      "application/vnd.jupyter.widget-view+json": {
       "model_id": "f16631e0f81b405fb3c697a527d82db4",
       "version_major": 2,
       "version_minor": 0
      },
      "text/plain": [
       "Map:   0%|          | 0/21441 [00:00<?, ? examples/s]"
      ]
     },
     "metadata": {},
     "output_type": "display_data"
    },
    {
     "data": {
      "application/vnd.jupyter.widget-view+json": {
       "model_id": "d90a7c706ccb44048169f8825258720e",
       "version_major": 2,
       "version_minor": 0
      },
      "text/plain": [
       "Map:   0%|          | 0/21441 [00:00<?, ? examples/s]"
      ]
     },
     "metadata": {},
     "output_type": "display_data"
    },
    {
     "data": {
      "application/vnd.jupyter.widget-view+json": {
       "model_id": "8573d4ccd6324bfd9f218ab52722c316",
       "version_major": 2,
       "version_minor": 0
      },
      "text/plain": [
       "Map:   0%|          | 0/21441 [00:00<?, ? examples/s]"
      ]
     },
     "metadata": {},
     "output_type": "display_data"
    },
    {
     "data": {
      "text/html": [
       "Waiting for W&B process to finish... <strong style=\"color:green\">(success).</strong>"
      ],
      "text/plain": [
       "<IPython.core.display.HTML object>"
      ]
     },
     "metadata": {},
     "output_type": "display_data"
    },
    {
     "name": "stderr",
     "output_type": "stream",
     "text": [
      "wandb: WARNING Source type is set to 'repo' but some required information is missing from the environment. A job will not be created from this run. See https://docs.wandb.ai/guides/launch/create-job\n"
     ]
    },
    {
     "data": {
      "text/html": [
       "<style>\n",
       "    table.wandb td:nth-child(1) { padding: 0 10px; text-align: left ; width: auto;} td:nth-child(2) {text-align: left ; width: 100%}\n",
       "    .wandb-row { display: flex; flex-direction: row; flex-wrap: wrap; justify-content: flex-start; width: 100% }\n",
       "    .wandb-col { display: flex; flex-direction: column; flex-basis: 100%; flex: 1; padding: 10px; }\n",
       "    </style>\n",
       "<div class=\"wandb-row\"><div class=\"wandb-col\"><h3>Run history:</h3><br/><table class=\"wandb\"><tr><td>avg_generative_loss</td><td>█▂▁▁▁▁▁▁▁</td></tr><tr><td>avg_rationale_loss</td><td>█▅▃▂▂▁▁▁▁</td></tr><tr><td>avg_train_loss</td><td>█▂▁▁▁▁▁▁▁</td></tr><tr><td>avg_yng_loss</td><td>█▂▁▁▁▁▁▁▁</td></tr><tr><td>checkpoint_counter</td><td>▁▂▃▄▅▆▇█</td></tr><tr><td>generative_loss</td><td>█▅▃▃▃▂▂▂▂▂▂▂▂▂▂▂▂▂▃▂▂▂▂▁▂▂▁▂▂▂▂▁▂▂▂▃▂▃▂▂</td></tr><tr><td>lr</td><td>▁▃▅▇███▇▇▇▇▇▆▆▆▆▆▅▅▅▅▅▄▄▄▄▄▃▃▃▃▃▂▂▂▂▂▁▁▁</td></tr><tr><td>rationale_loss</td><td>████▇▇▇▆▅▄▅▅▆▅▅▆▅▄▄▄▄▅▅▂▅▆▇▅▃▆▃▃▄▃█▁▄▃▆▂</td></tr><tr><td>train_loss</td><td>█▆▄▄▃▃▃▂▂▂▂▂▂▂▂▂▂▂▂▂▂▁▂▂▂▂▁▂▂▂▂▁▂▂▂▃▂▃▂▂</td></tr><tr><td>val_generative_loss</td><td>█▅▅▄▃▂▁▁ </td></tr><tr><td>val_loss</td><td>█▅▄▃▂▂▁▁ </td></tr><tr><td>val_rationale_loss</td><td>█▄▃▂▂▁▁▁ </td></tr><tr><td>val_yng_loss</td><td>█▄▃▂▂▁▁▁▁</td></tr><tr><td>yng_loss</td><td>█▆▅▄▄▃▄▃▃▂▂▂▂▂▁▃▂▃▁▃▃▁▂▃▂▂▁▂▂▁▂▁▂▃▂▃▂▃▂▂</td></tr></table><br/></div><div class=\"wandb-col\"><h3>Run summary:</h3><br/><table class=\"wandb\"><tr><td>avg_generative_loss</td><td>4.10071</td></tr><tr><td>avg_rationale_loss</td><td>0.64403</td></tr><tr><td>avg_train_loss</td><td>7.35191</td></tr><tr><td>avg_yng_loss</td><td>0.26382</td></tr><tr><td>checkpoint_counter</td><td>7</td></tr><tr><td>generative_loss</td><td>3.92802</td></tr><tr><td>lr</td><td>0.0</td></tr><tr><td>rationale_loss</td><td>0.64544</td></tr><tr><td>train_loss</td><td>6.4788</td></tr><tr><td>val_generative_loss</td><td>nan</td></tr><tr><td>val_loss</td><td>nan</td></tr><tr><td>val_rationale_loss</td><td>nan</td></tr><tr><td>val_yng_loss</td><td>0.24654</td></tr><tr><td>yng_loss</td><td>0.12289</td></tr></table><br/></div></div>"
      ],
      "text/plain": [
       "<IPython.core.display.HTML object>"
      ]
     },
     "metadata": {},
     "output_type": "display_data"
    },
    {
     "data": {
      "text/html": [
       " View run <strong style=\"color:#cdcd00\">rich-haze-15</strong> at: <a href='https://wandb.ai/matteo-periani/nlp_assignment2/runs/wr5hrgdm' target=\"_blank\">https://wandb.ai/matteo-periani/nlp_assignment2/runs/wr5hrgdm</a><br/>Synced 6 W&B file(s), 0 media file(s), 0 artifact file(s) and 0 other file(s)"
      ],
      "text/plain": [
       "<IPython.core.display.HTML object>"
      ]
     },
     "metadata": {},
     "output_type": "display_data"
    },
    {
     "data": {
      "text/html": [
       "Find logs at: <code>./wandb/run-20230825_174752-wr5hrgdm/logs</code>"
      ],
      "text/plain": [
       "<IPython.core.display.HTML object>"
      ]
     },
     "metadata": {},
     "output_type": "display_data"
    }
   ],
   "source": [
    "with wandb.init(project=CONFIG.wandbConfig.project, config=hyperparameters):\n",
    "    config = wandb.config\n",
    "\n",
    "    set_seed(config.seed)\n",
    "\n",
    "    # Make the model\n",
    "    tokenizer, model = make_model(config)\n",
    "\n",
    "    # Make the data\n",
    "    train_data = get_data(\"train\", config).shuffle(42)\n",
    "    # .select(range(1000))\n",
    "    val_data = get_data(\"validation\", config).shuffle(42)\n",
    "    # .select(range(64))\n",
    "    train_dataloader = make_dataloader(train_data, tokenizer, config, split=\"train\")\n",
    "    val_dataloader = make_dataloader(val_data, tokenizer, config, split=\"validation\")\n",
    "\n",
    "    # Make the loss, the optimizer and the scheduler\n",
    "    loss_fn = make_loss(config)\n",
    "    optimizer = make_optimizer(model, loss_fn, config)\n",
    "    scheduler = make_scheduler(\n",
    "        optimizer, steps_per_epoch=len(train_dataloader), config=config\n",
    "    )\n",
    "\n",
    "    # model, train_dataloader, val_dataloader, loss_fn, optimizer, scheduler, metrics = make(config)\n",
    "    print(model)\n",
    "\n",
    "    tf_scheduler = Linear(1., 0.7, total_iters=len(train_dataloader)*config.num_epochs)\n",
    "    train(\n",
    "        model,\n",
    "        train_dataloader,\n",
    "        val_dataloader,\n",
    "        loss_fn,\n",
    "        optimizer,\n",
    "        scheduler,\n",
    "        config,\n",
    "        teacher_force_scheduler=tf_scheduler\n",
    "    )\n",
    "\n",
    "    results = evaluate(model, tokenizer, train_data, val_data, config)"
   ]
  },
  {
   "cell_type": "code",
   "execution_count": 5,
   "metadata": {},
   "outputs": [
    {
     "name": "stderr",
     "output_type": "stream",
     "text": [
      "Some weights of the model checkpoint at distilroberta-base were not used when initializing RobertaModel: ['lm_head.layer_norm.bias', 'lm_head.layer_norm.weight', 'lm_head.decoder.weight', 'lm_head.dense.weight', 'lm_head.dense.bias', 'lm_head.bias']\n",
      "- This IS expected if you are initializing RobertaModel from the checkpoint of a model trained on another task or with another architecture (e.g. initializing a BertForSequenceClassification model from a BertForPreTraining model).\n",
      "- This IS NOT expected if you are initializing RobertaModel from the checkpoint of a model that you expect to be exactly identical (initializing a BertForSequenceClassification model from a BertForSequenceClassification model).\n",
      "Some weights of RobertaForCausalLM were not initialized from the model checkpoint at distilroberta-base and are newly initialized: ['roberta.encoder.layer.5.crossattention.output.LayerNorm.weight', 'roberta.encoder.layer.3.crossattention.output.dense.bias', 'roberta.encoder.layer.5.crossattention.output.LayerNorm.bias', 'roberta.encoder.layer.4.crossattention.self.query.weight', 'roberta.encoder.layer.5.crossattention.self.query.weight', 'roberta.encoder.layer.2.crossattention.self.key.weight', 'roberta.encoder.layer.4.crossattention.self.key.bias', 'roberta.encoder.layer.3.crossattention.self.value.weight', 'roberta.encoder.layer.1.crossattention.output.dense.bias', 'roberta.encoder.layer.1.crossattention.output.LayerNorm.weight', 'roberta.encoder.layer.2.crossattention.output.dense.bias', 'roberta.encoder.layer.0.crossattention.self.query.weight', 'roberta.encoder.layer.1.crossattention.self.query.bias', 'roberta.encoder.layer.1.crossattention.self.value.weight', 'roberta.encoder.layer.1.crossattention.self.query.weight', 'roberta.encoder.layer.4.crossattention.output.LayerNorm.weight', 'roberta.encoder.layer.0.crossattention.self.value.bias', 'roberta.encoder.layer.0.crossattention.self.key.bias', 'roberta.encoder.layer.1.crossattention.output.LayerNorm.bias', 'roberta.encoder.layer.5.crossattention.self.query.bias', 'roberta.encoder.layer.1.crossattention.self.key.bias', 'roberta.encoder.layer.5.crossattention.self.value.bias', 'roberta.encoder.layer.5.crossattention.output.dense.weight', 'roberta.encoder.layer.5.crossattention.output.dense.bias', 'roberta.encoder.layer.2.crossattention.self.value.bias', 'roberta.encoder.layer.5.crossattention.self.key.bias', 'roberta.encoder.layer.2.crossattention.output.dense.weight', 'roberta.encoder.layer.1.crossattention.self.key.weight', 'roberta.encoder.layer.5.crossattention.self.value.weight', 'roberta.encoder.layer.4.crossattention.self.value.weight', 'roberta.encoder.layer.3.crossattention.output.LayerNorm.bias', 'roberta.encoder.layer.0.crossattention.output.dense.weight', 'roberta.encoder.layer.2.crossattention.self.value.weight', 'roberta.encoder.layer.2.crossattention.self.query.weight', 'roberta.encoder.layer.2.crossattention.self.key.bias', 'roberta.encoder.layer.4.crossattention.self.query.bias', 'roberta.encoder.layer.3.crossattention.self.value.bias', 'roberta.encoder.layer.2.crossattention.self.query.bias', 'roberta.encoder.layer.4.crossattention.output.dense.weight', 'roberta.encoder.layer.1.crossattention.output.dense.weight', 'roberta.encoder.layer.0.crossattention.self.key.weight', 'roberta.encoder.layer.5.crossattention.self.key.weight', 'roberta.encoder.layer.4.crossattention.output.LayerNorm.bias', 'roberta.encoder.layer.3.crossattention.self.key.bias', 'roberta.encoder.layer.0.crossattention.output.dense.bias', 'roberta.encoder.layer.3.crossattention.self.query.bias', 'roberta.encoder.layer.0.crossattention.self.value.weight', 'roberta.encoder.layer.4.crossattention.self.key.weight', 'roberta.encoder.layer.2.crossattention.output.LayerNorm.bias', 'roberta.encoder.layer.0.crossattention.self.query.bias', 'roberta.encoder.layer.0.crossattention.output.LayerNorm.weight', 'roberta.encoder.layer.3.crossattention.output.LayerNorm.weight', 'roberta.encoder.layer.1.crossattention.self.value.bias', 'roberta.encoder.layer.3.crossattention.self.key.weight', 'roberta.encoder.layer.4.crossattention.output.dense.bias', 'roberta.encoder.layer.2.crossattention.output.LayerNorm.weight', 'roberta.encoder.layer.3.crossattention.self.query.weight', 'roberta.encoder.layer.3.crossattention.output.dense.weight', 'roberta.encoder.layer.4.crossattention.self.value.bias', 'roberta.encoder.layer.0.crossattention.output.LayerNorm.bias']\n",
      "You should probably TRAIN this model on a down-stream task to be able to use it for predictions and inference.\n",
      "The following encoder weights were not tied to the decoder ['roberta/pooler']\n"
     ]
    },
    {
     "name": "stdout",
     "output_type": "stream",
     "text": [
      "Cross-attention has been initialized with self-attention weights.\n"
     ]
    },
    {
     "name": "stderr",
     "output_type": "stream",
     "text": [
      "Loading cached shuffled indices for dataset at /home/matteo/uni/nlp/nlp_assignment2/data/train/train_no_history/distil_roberta/train/cache-ab470769452d68a0.arrow\n",
      "Loading cached shuffled indices for dataset at /home/matteo/uni/nlp/nlp_assignment2/data/train/train_no_history/distil_roberta/validation/cache-af0cd39b307b0fc7.arrow\n",
      "Loading cached shuffled indices for dataset at /home/matteo/uni/nlp/nlp_assignment2/data/train/train_no_history/distil_roberta/test/cache-938ad0729f6b150d.arrow\n"
     ]
    },
    {
     "name": "stdout",
     "output_type": "stream",
     "text": [
      "eval  train\n"
     ]
    },
    {
     "name": "stderr",
     "output_type": "stream",
     "text": [
      "Parameter 'function'=<function evaluate_tokenized_dataset.<locals>.<lambda> at 0x7f21e58d04a0> of the transform datasets.arrow_dataset.Dataset._map_single couldn't be hashed properly, a random hash was used instead. Make sure your transforms and parameters are serializable with pickle or dill for the dataset fingerprinting and caching to work. If you reuse this transform, the caching mechanism will consider it to be different from the previous calls and recompute everything. This warning is only showed once. Subsequent hashing failures won't be showed.\n"
     ]
    },
    {
     "data": {
      "application/vnd.jupyter.widget-view+json": {
       "model_id": "a2e1b2b14a1a402abff5f32b0f91357c",
       "version_major": 2,
       "version_minor": 0
      },
      "text/plain": [
       "Map:   0%|          | 0/1000 [00:00<?, ? examples/s]"
      ]
     },
     "metadata": {},
     "output_type": "display_data"
    },
    {
     "name": "stderr",
     "output_type": "stream",
     "text": [
      "You're using a RobertaTokenizerFast tokenizer. Please note that with a fast tokenizer, using the `__call__` method is faster than using a method to encode the text followed by a call to the `pad` method to get a padded encoding.\n"
     ]
    },
    {
     "data": {
      "application/vnd.jupyter.widget-view+json": {
       "model_id": "6bdb0492c8384bb696f7a67e597d1a22",
       "version_major": 2,
       "version_minor": 0
      },
      "text/plain": [
       "Map:   0%|          | 0/1000 [00:00<?, ? examples/s]"
      ]
     },
     "metadata": {},
     "output_type": "display_data"
    },
    {
     "data": {
      "application/vnd.jupyter.widget-view+json": {
       "model_id": "2d774da5bfe14f27b54503b9e880281f",
       "version_major": 2,
       "version_minor": 0
      },
      "text/plain": [
       "Map:   0%|          | 0/1000 [00:00<?, ? examples/s]"
      ]
     },
     "metadata": {},
     "output_type": "display_data"
    },
    {
     "data": {
      "application/vnd.jupyter.widget-view+json": {
       "model_id": "d2718479c3f64adfa2d00c434ff9ec8d",
       "version_major": 2,
       "version_minor": 0
      },
      "text/plain": [
       "Map:   0%|          | 0/1000 [00:00<?, ? examples/s]"
      ]
     },
     "metadata": {},
     "output_type": "display_data"
    },
    {
     "data": {
      "application/vnd.jupyter.widget-view+json": {
       "model_id": "88fe0e38351d4e34b79138986ca201d8",
       "version_major": 2,
       "version_minor": 0
      },
      "text/plain": [
       "Map:   0%|          | 0/1000 [00:00<?, ? examples/s]"
      ]
     },
     "metadata": {},
     "output_type": "display_data"
    },
    {
     "name": "stdout",
     "output_type": "stream",
     "text": [
      "eval  val\n"
     ]
    },
    {
     "data": {
      "application/vnd.jupyter.widget-view+json": {
       "model_id": "1f10f726350049cf868680ce658623c9",
       "version_major": 2,
       "version_minor": 0
      },
      "text/plain": [
       "Map:   0%|          | 0/1000 [00:00<?, ? examples/s]"
      ]
     },
     "metadata": {},
     "output_type": "display_data"
    },
    {
     "data": {
      "application/vnd.jupyter.widget-view+json": {
       "model_id": "bc31aa28be3b4911aaccdda529ee78ef",
       "version_major": 2,
       "version_minor": 0
      },
      "text/plain": [
       "Map:   0%|          | 0/1000 [00:00<?, ? examples/s]"
      ]
     },
     "metadata": {},
     "output_type": "display_data"
    },
    {
     "data": {
      "application/vnd.jupyter.widget-view+json": {
       "model_id": "a047750baa9647cfa1480c70fca65e04",
       "version_major": 2,
       "version_minor": 0
      },
      "text/plain": [
       "Map:   0%|          | 0/1000 [00:00<?, ? examples/s]"
      ]
     },
     "metadata": {},
     "output_type": "display_data"
    },
    {
     "data": {
      "application/vnd.jupyter.widget-view+json": {
       "model_id": "315e3719a5d94b6eaf509ad282cf1f3e",
       "version_major": 2,
       "version_minor": 0
      },
      "text/plain": [
       "Map:   0%|          | 0/1000 [00:00<?, ? examples/s]"
      ]
     },
     "metadata": {},
     "output_type": "display_data"
    },
    {
     "data": {
      "application/vnd.jupyter.widget-view+json": {
       "model_id": "4700353670f94050ae970bedd64eaccd",
       "version_major": 2,
       "version_minor": 0
      },
      "text/plain": [
       "Map:   0%|          | 0/1000 [00:00<?, ? examples/s]"
      ]
     },
     "metadata": {},
     "output_type": "display_data"
    },
    {
     "name": "stdout",
     "output_type": "stream",
     "text": [
      "eval  test\n"
     ]
    },
    {
     "data": {
      "application/vnd.jupyter.widget-view+json": {
       "model_id": "7e51c76182bf483ba17f5233cb36b086",
       "version_major": 2,
       "version_minor": 0
      },
      "text/plain": [
       "Map:   0%|          | 0/1000 [00:00<?, ? examples/s]"
      ]
     },
     "metadata": {},
     "output_type": "display_data"
    },
    {
     "data": {
      "application/vnd.jupyter.widget-view+json": {
       "model_id": "12a6599ed0c546c0b8f2c60f7816f437",
       "version_major": 2,
       "version_minor": 0
      },
      "text/plain": [
       "Map:   0%|          | 0/1000 [00:00<?, ? examples/s]"
      ]
     },
     "metadata": {},
     "output_type": "display_data"
    },
    {
     "data": {
      "application/vnd.jupyter.widget-view+json": {
       "model_id": "8a09c21ee3d5436f8f2e3c423880770b",
       "version_major": 2,
       "version_minor": 0
      },
      "text/plain": [
       "Map:   0%|          | 0/1000 [00:00<?, ? examples/s]"
      ]
     },
     "metadata": {},
     "output_type": "display_data"
    },
    {
     "data": {
      "application/vnd.jupyter.widget-view+json": {
       "model_id": "8e2e03d2af6c4838a61eaef46649171a",
       "version_major": 2,
       "version_minor": 0
      },
      "text/plain": [
       "Map:   0%|          | 0/1000 [00:00<?, ? examples/s]"
      ]
     },
     "metadata": {},
     "output_type": "display_data"
    },
    {
     "data": {
      "application/vnd.jupyter.widget-view+json": {
       "model_id": "7e6271dbdbd04f0aa1d03390bd1565ba",
       "version_major": 2,
       "version_minor": 0
      },
      "text/plain": [
       "Map:   0%|          | 0/1000 [00:00<?, ? examples/s]"
      ]
     },
     "metadata": {},
     "output_type": "display_data"
    },
    {
     "name": "stdout",
     "output_type": "stream",
     "text": [
      "\n",
      "\u001b[1m Evaluating train set: \u001b[0m\n",
      "Example of Q&A generated:\n",
      "A_pred: Nine\n",
      "A_true: kidnapping\n",
      "\n",
      "A_pred: Emily's account for the the gravestone\n",
      "A_true: the London commissions\n",
      "\n",
      "A_pred: Carrie\n",
      "A_true: Carrie Underwood\n",
      "\n",
      "A_pred: yes\n",
      "A_true: Yes\n",
      "\n",
      "A_pred: no\n",
      "A_true: Yes\n",
      "\n",
      "YesNoGen head f1: tensor([0.8342, 0.8776, 0.9832], device='cuda:0') %\n",
      "YesNoGen head macro-f1: 89.83 %\n",
      "Rationale f1: 63.60 %\n",
      "SQUAD-f1: 35.51 %\n",
      "______________________________\n",
      "\n",
      "\u001b[1m Evaluating val set: \u001b[0m\n",
      "Example of Q&A generated:\n",
      "A_pred: Two\n",
      "A_true: each month\n",
      "\n",
      "A_pred: Never\n",
      "A_true: swim across\n",
      "\n",
      "A_pred: Marco Rubio\n",
      "A_true: the public\n",
      "\n",
      "A_pred: provprovan War War\n",
      "A_true: With the pontoon train\n",
      "\n",
      "A_pred: Captain Horn\n",
      "A_true: It concerns him\n",
      "\n",
      "YesNoGen head f1: tensor([0.6220, 0.6429, 0.9881], device='cuda:0') %\n",
      "YesNoGen head macro-f1: 75.10 %\n",
      "Rationale f1: 63.34 %\n",
      "SQUAD-f1: 30.37 %\n",
      "______________________________\n",
      "\n",
      "\u001b[1m Evaluating test set: \u001b[0m\n",
      "Example of Q&A generated:\n",
      "A_pred: yes\n",
      "A_true: yes\n",
      "\n",
      "A_pred: 11 million\n",
      "A_true: over 11 million\n",
      "\n",
      "A_pred: no\n",
      "A_true: no\n",
      "\n",
      "A_pred: no\n",
      "A_true: No\n",
      "\n",
      "A_pred: 11 minutes\n",
      "A_true: with a prayer\n",
      "\n",
      "YesNoGen head f1: tensor([0.6414, 0.6267, 0.9819], device='cuda:0') %\n",
      "YesNoGen head macro-f1: 75.00 %\n",
      "Rationale f1: 64.59 %\n",
      "SQUAD-f1: 32.23 %\n",
      "______________________________\n",
      "\n"
     ]
    }
   ],
   "source": [
    "tokenizer, model = make_model(hyperparameters)\n",
    "model.load_state_dict(torch.load(\"checkpoints/distil_roberta_42_nh_2.pt\"))\n",
    "\n",
    "set_size = 1000\n",
    "train_set = get_data(\"train\", hyperparameters).shuffle(42)\n",
    "val_set = get_data(\"validation\", hyperparameters).shuffle(42)\n",
    "test_set = get_data(\"test\", hyperparameters).shuffle(42)\n",
    "\n",
    "if set_size is not None:\n",
    "    train_set = train_set.select(range(set_size))\n",
    "    val_set = val_set.select(range(set_size))\n",
    "    test_set = test_set.select(range(set_size))\n",
    "\n",
    "results = evaluate(model, tokenizer, train_set, val_set, test_set, hyperparameters)\n",
    "\n",
    "print()\n",
    "for key, (data, res)in results.items():\n",
    "    print(f\"\\033[1m Evaluating {key} set: \\033[0m\")\n",
    "\n",
    "    print(\"Example of Q&A generated:\")\n",
    "    for i in range(5):\n",
    "        print(\"A_pred:\", data[\"pred_answer\"][i])\n",
    "        print(\"A_true:\", data[\"answer\"][i])\n",
    "        print()\n",
    "\n",
    "    print(f\"YesNoGen head f1: {res['yng_f1']} %\")\n",
    "    print(f\"YesNoGen head macro-f1: {res['yng_f1_macro']*100:.2f} %\")\n",
    "    print(f\"Rationale f1: {res['rationales_f1']*100:.2f} %\")\n",
    "    print(f\"SQUAD-f1: {res['answers_squad_f1']*100:.2f} %\")\n",
    "    print(\"_\"*30)\n",
    "    print()"
   ]
  },
  {
   "cell_type": "code",
   "execution_count": 6,
   "metadata": {},
   "outputs": [
    {
     "data": {
      "image/png": "[encoded data removed]",
      "text/plain": [
       "<Figure size 640x480 with 2 Axes>"
      ]
     },
     "metadata": {},
     "output_type": "display_data"
    }
   ],
   "source": [
    "import matplotlib.pyplot as plt\n",
    "from sklearn.metrics import confusion_matrix, ConfusionMatrixDisplay\n",
    "\n",
    "cm = confusion_matrix(results[\"train\"][0][\"yng_label\"], results[\"train\"][0][\"pred_yng_label\"])\n",
    "disp = ConfusionMatrixDisplay(confusion_matrix=cm, display_labels=[\"yes\", \"no\", \"generative\"])\n",
    "disp.plot()\n",
    "plt.show()"
   ]
  },
  {
   "cell_type": "code",
   "execution_count": 30,
   "metadata": {},
   "outputs": [
    {
     "name": "stdout",
     "output_type": "stream",
     "text": [
      "eval  train\n"
     ]
    },
    {
     "data": {
      "application/vnd.jupyter.widget-view+json": {
       "model_id": "d96edbab9a6341fa88af6e2abcdbd0bc",
       "version_major": 2,
       "version_minor": 0
      },
      "text/plain": [
       "Map:   0%|          | 0/100 [00:00<?, ? examples/s]"
      ]
     },
     "metadata": {},
     "output_type": "display_data"
    },
    {
     "data": {
      "application/vnd.jupyter.widget-view+json": {
       "model_id": "9ecef5b037414767a33e377d09901ca2",
       "version_major": 2,
       "version_minor": 0
      },
      "text/plain": [
       "Map:   0%|          | 0/100 [00:00<?, ? examples/s]"
      ]
     },
     "metadata": {},
     "output_type": "display_data"
    },
    {
     "data": {
      "application/vnd.jupyter.widget-view+json": {
       "model_id": "ce732d900680459ab682327cd291fdcd",
       "version_major": 2,
       "version_minor": 0
      },
      "text/plain": [
       "Filter:   0%|          | 0/100 [00:00<?, ? examples/s]"
      ]
     },
     "metadata": {},
     "output_type": "display_data"
    },
    {
     "data": {
      "application/vnd.jupyter.widget-view+json": {
       "model_id": "94ec83b1e58745fb967f97ba0a2032b4",
       "version_major": 2,
       "version_minor": 0
      },
      "text/plain": [
       "Filter:   0%|          | 0/100 [00:00<?, ? examples/s]"
      ]
     },
     "metadata": {},
     "output_type": "display_data"
    },
    {
     "data": {
      "application/vnd.jupyter.widget-view+json": {
       "model_id": "c656bb342fc04e9faee46f2d04b11736",
       "version_major": 2,
       "version_minor": 0
      },
      "text/plain": [
       "Filter:   0%|          | 0/100 [00:00<?, ? examples/s]"
      ]
     },
     "metadata": {},
     "output_type": "display_data"
    },
    {
     "data": {
      "application/vnd.jupyter.widget-view+json": {
       "model_id": "56f56a236b4d4c5c9cd18e1c55f2dd80",
       "version_major": 2,
       "version_minor": 0
      },
      "text/plain": [
       "Filter:   0%|          | 0/100 [00:00<?, ? examples/s]"
      ]
     },
     "metadata": {},
     "output_type": "display_data"
    },
    {
     "name": "stderr",
     "output_type": "stream",
     "text": [
      "/home/matteo/miniconda3/envs/nlp/lib/python3.11/site-packages/numpy/core/fromnumeric.py:3504: RuntimeWarning: Mean of empty slice.\n",
      "  return _methods._mean(a, axis=axis, dtype=dtype,\n",
      "/home/matteo/miniconda3/envs/nlp/lib/python3.11/site-packages/numpy/core/_methods.py:129: RuntimeWarning: invalid value encountered in scalar divide\n",
      "  ret = ret.dtype.type(ret / rcount)\n"
     ]
    },
    {
     "name": "stdout",
     "output_type": "stream",
     "text": [
      "eval  val\n"
     ]
    },
    {
     "data": {
      "application/vnd.jupyter.widget-view+json": {
       "model_id": "d4b99548cc9c4bebb0dab2590f7bcc43",
       "version_major": 2,
       "version_minor": 0
      },
      "text/plain": [
       "Map:   0%|          | 0/100 [00:00<?, ? examples/s]"
      ]
     },
     "metadata": {},
     "output_type": "display_data"
    },
    {
     "data": {
      "application/vnd.jupyter.widget-view+json": {
       "model_id": "6c4165dc487f4ae58e7df0a2c89d1cbf",
       "version_major": 2,
       "version_minor": 0
      },
      "text/plain": [
       "Map:   0%|          | 0/100 [00:00<?, ? examples/s]"
      ]
     },
     "metadata": {},
     "output_type": "display_data"
    },
    {
     "data": {
      "application/vnd.jupyter.widget-view+json": {
       "model_id": "6fae15aceba44460aa1c2f86a1e57c40",
       "version_major": 2,
       "version_minor": 0
      },
      "text/plain": [
       "Filter:   0%|          | 0/100 [00:00<?, ? examples/s]"
      ]
     },
     "metadata": {},
     "output_type": "display_data"
    },
    {
     "data": {
      "application/vnd.jupyter.widget-view+json": {
       "model_id": "7e8cd634aa424fb09f7ada1d9480be4d",
       "version_major": 2,
       "version_minor": 0
      },
      "text/plain": [
       "Filter:   0%|          | 0/100 [00:00<?, ? examples/s]"
      ]
     },
     "metadata": {},
     "output_type": "display_data"
    },
    {
     "data": {
      "application/vnd.jupyter.widget-view+json": {
       "model_id": "a1660540e6ce4a47a2c98e36ca4d997c",
       "version_major": 2,
       "version_minor": 0
      },
      "text/plain": [
       "Filter:   0%|          | 0/100 [00:00<?, ? examples/s]"
      ]
     },
     "metadata": {},
     "output_type": "display_data"
    },
    {
     "data": {
      "application/vnd.jupyter.widget-view+json": {
       "model_id": "059244fd23c0415a8942faf90aac26e5",
       "version_major": 2,
       "version_minor": 0
      },
      "text/plain": [
       "Filter:   0%|          | 0/100 [00:00<?, ? examples/s]"
      ]
     },
     "metadata": {},
     "output_type": "display_data"
    },
    {
     "name": "stdout",
     "output_type": "stream",
     "text": [
      "eval  test\n"
     ]
    },
    {
     "data": {
      "application/vnd.jupyter.widget-view+json": {
       "model_id": "ae41bd879b4947379a44988083a82e6c",
       "version_major": 2,
       "version_minor": 0
      },
      "text/plain": [
       "Map:   0%|          | 0/100 [00:00<?, ? examples/s]"
      ]
     },
     "metadata": {},
     "output_type": "display_data"
    },
    {
     "data": {
      "application/vnd.jupyter.widget-view+json": {
       "model_id": "87f717d1de4f4133b5918d4839c269ac",
       "version_major": 2,
       "version_minor": 0
      },
      "text/plain": [
       "Map:   0%|          | 0/100 [00:00<?, ? examples/s]"
      ]
     },
     "metadata": {},
     "output_type": "display_data"
    },
    {
     "data": {
      "application/vnd.jupyter.widget-view+json": {
       "model_id": "cf4467bc33b14eb5a92cc6a7cd86bd83",
       "version_major": 2,
       "version_minor": 0
      },
      "text/plain": [
       "Filter:   0%|          | 0/100 [00:00<?, ? examples/s]"
      ]
     },
     "metadata": {},
     "output_type": "display_data"
    },
    {
     "data": {
      "application/vnd.jupyter.widget-view+json": {
       "model_id": "2798397dbb224887ba6a30640f00e2eb",
       "version_major": 2,
       "version_minor": 0
      },
      "text/plain": [
       "Filter:   0%|          | 0/100 [00:00<?, ? examples/s]"
      ]
     },
     "metadata": {},
     "output_type": "display_data"
    },
    {
     "data": {
      "application/vnd.jupyter.widget-view+json": {
       "model_id": "d9a6f1dc697f4f428523672daada91d0",
       "version_major": 2,
       "version_minor": 0
      },
      "text/plain": [
       "Filter:   0%|          | 0/100 [00:00<?, ? examples/s]"
      ]
     },
     "metadata": {},
     "output_type": "display_data"
    },
    {
     "data": {
      "application/vnd.jupyter.widget-view+json": {
       "model_id": "17e23b8e503148a79a5f8261090760c1",
       "version_major": 2,
       "version_minor": 0
      },
      "text/plain": [
       "Filter:   0%|          | 0/100 [00:00<?, ? examples/s]"
      ]
     },
     "metadata": {},
     "output_type": "display_data"
    },
    {
     "name": "stdout",
     "output_type": "stream",
     "text": [
      "\n",
      "\u001b[1mEvaluating train set: \u001b[0m\n",
      "\n",
      "Example of Q&A generated:\n",
      "Q: How did they greet?\n",
      "A_pred: a tree\n",
      "A_true: The two men shook hands\n",
      "\n",
      "Q: what?\n",
      "A_pred: she started\n",
      "A_true: gloves\n",
      "\n",
      "Q: Are they proud?\n",
      "A_pred: yes\n",
      "A_true: Yes\n",
      "\n",
      "Q: How many terms did he serve?\n",
      "A_pred: two\n",
      "A_true: Three\n",
      "\n",
      "Q: What was her opponent ranked?\n",
      "A_pred: two\n",
      "A_true: Fourth\n",
      "\n",
      "Total train dataset SQUAD-f1: 0.08\n",
      " - yes_ans_f1 = 1.00 (6.0 %)\n",
      " - no_ans_f1 = 0.00 (4.0 %)\n",
      " - mc_quest_f1 = nan (0.0 %)\n",
      " - wh_quest_f1 = 0.01 (81.0 %)\n",
      "______________________________\n",
      "\n",
      "\u001b[1mEvaluating val set: \u001b[0m\n",
      "\n",
      "Example of Q&A generated:\n",
      "Q: How often?\n",
      "A_pred: five\n",
      "A_true: each month\n",
      "\n",
      "Q: How?\n",
      "A_pred: a summer\n",
      "A_true: swim across\n",
      "\n",
      "Q: Who will decide the outcome of the election?\n",
      "A_pred: president\n",
      "A_true: the public\n",
      "\n",
      "Q: With what?\n",
      "A_pred: two\n",
      "A_true: With the pontoon train\n",
      "\n",
      "Q: How does Horn feel about the plan?\n",
      "A_pred: a boat\n",
      "A_true: It concerns him\n",
      "\n",
      "Total val dataset SQUAD-f1: 0.08\n",
      " - yes_ans_f1 = 1.00 (7.0 %)\n",
      " - no_ans_f1 = 0.00 (8.0 %)\n",
      " - mc_quest_f1 = nan (0.0 %)\n",
      " - wh_quest_f1 = 0.02 (82.0 %)\n",
      "______________________________\n",
      "\n",
      "\u001b[1mEvaluating test set: \u001b[0m\n",
      "\n",
      "Example of Q&A generated:\n",
      "Q: Did Stanley want to shake hands?\n",
      "A_pred: yes\n",
      "A_true: yes\n",
      "\n",
      "Q: How many?\n",
      "A_pred: germany\n",
      "A_true: over 11 million\n",
      "\n",
      "Q: Is he dumber than most film heroes?\n",
      "A_pred: yes\n",
      "A_true: no\n",
      "\n",
      "Q: Did he testify when he was the subject of a suit?\n",
      "A_pred: yes\n",
      "A_true: No\n",
      "\n",
      "Q: How does the recording start?\n",
      "A_pred: 11\n",
      "A_true: with a prayer\n",
      "\n",
      "Total test dataset SQUAD-f1: 0.10\n",
      " - yes_ans_f1 = 1.00 (8.0 %)\n",
      " - no_ans_f1 = 0.00 (11.0 %)\n",
      " - mc_quest_f1 = nan (0.0 %)\n",
      " - wh_quest_f1 = 0.02 (80.0 %)\n",
      "______________________________\n",
      "\n"
     ]
    }
   ],
   "source": [
    "if 'tokenizer' not in locals() or 'model' not in locals():\n",
    "    tokenizer, model = make_model(hyperparameters)\n",
    "    model.load_state_dict(torch.load(\"checkpoints/bert_tiny_42_nh.pt\"))\n",
    "\n",
    "set_size = 100\n",
    "if 'train_set' not in locals(): train_set = datasets.load_from_disk(CONFIG.dataset.processed_dir, )[\"train\"].shuffle(42)\n",
    "if 'val_set' not in locals(): val_set = datasets.load_from_disk(CONFIG.dataset.processed_dir)[\"validation\"].shuffle(42)\n",
    "if 'test_set' not in locals(): test_set = datasets.load_from_disk(CONFIG.dataset.processed_dir)[\"test\"].shuffle(42)\n",
    "\n",
    "if set_size is not None:\n",
    "    train_set = train_set.select(range(set_size))\n",
    "    val_set = val_set.select(range(set_size))\n",
    "    test_set = test_set.select(range(set_size))\n",
    "\n",
    "results = evaluate(model, tokenizer, train_set, val_set, test_set, hyperparameters)\n",
    "\n",
    "print()\n",
    "for key, (data, res)in results.items():\n",
    "    print(f\"\\033[1mEvaluating {key} set: \\033[0m\\n\")\n",
    "\n",
    "    print(\"Example of Q&A generated:\")\n",
    "    for i in range(5):\n",
    "        print(\"Q:\", data[\"question\"][i])\n",
    "        print(\"A_pred:\", data[\"pred_answer\"][i])\n",
    "        print(\"A_true:\", data[\"answer\"][i])\n",
    "        print()\n",
    "\n",
    "    tot_squad_f1 = res.pop(\"tot_squad_f1\")\n",
    "\n",
    "    print(f\"Total {key} dataset SQUAD-f1: {tot_squad_f1[0]:.2f}\")\n",
    "\n",
    "    for k,v in res.items():\n",
    "        print(f\" - {k} = {v[0]:.2f} ({v[1]:.1f} %)\")\n",
    "\n",
    "    print(\"_\"*30)\n",
    "    print()"
   ]
  },
  {
   "cell_type": "code",
   "execution_count": 47,
   "metadata": {},
   "outputs": [
    {
     "name": "stderr",
     "output_type": "stream",
     "text": [
      "                                             "
     ]
    },
    {
     "name": "stdout",
     "output_type": "stream",
     "text": [
      "\u001b[1mPassage: \u001b[0mLos Angeles (CNN) -- A man convicted of stalking singer Madonna, and who once threatened to knife her, was arrested Friday, a week after he escaped from a Southern California mental hospital, police said. \n",
      "\n",
      "Robert Dewey Hoskins, 54, had walked away from Metropolitan State Hospital in the Los Angeles suburb of Norwalk on February 3, police said. \n",
      "\n",
      "He had served a 10-year prison sentence for stalking the \"Material Girl,\" police said, and a court order requires him to be in a facility receiving mental health treatment until the end of August 2012. \n",
      "\n",
      "Los Angeles Police Sgt. Mitzi Fierro told HLN's Nancy Grace that she hadn't been told whether any new charges will be filed against Hoskins. \n",
      "\n",
      "\"At this point they are returning him to the facility, and I believe that will be determined by the detectives who will investigate -- number one, his ability to walk away from the facility and, number two, if he violated anything from that point on,\" Fierro said. \n",
      "\n",
      "The facility he was in is not secured, and it was unclear Friday whether Hoskins escaped or walked out on his own, investigators told CNN. \n",
      "\n",
      "He was receiving treatment to get acclimated to society again and was supervised by a civilian staff and not officers, detectives said. \n",
      "\n",
      "Because of the court order, Hoskins was deemed an \"escapee,\" detectives said. \n",
      "\n",
      "Investigators had been looking for him in the Long Beach area because some of his arrest records come from that community, detectives said. \n",
      "\n",
      "Prior to his arrest Friday, Los Angeles police issued a warning to the public saying Hoskins \"is highly psychotic when not taking his medication and has very violent tendencies.\" \n",
      "\n",
      "\u001b[1mQuestion: \u001b[0mWho was arrested?\n",
      "\u001b[1mPredicted Answer: \u001b[0ma hospital\n",
      "\u001b[1mAnswer: \u001b[0mRobert Dewey Hoskins,\n",
      "\u001b[1mAnswer SQUAD-f1: \u001b[0m0.0\n",
      "\n",
      "\u001b[1mQuestion: \u001b[0mDid he escape from anywhere?\n",
      "\u001b[1mPredicted Answer: \u001b[0myes\n",
      "\u001b[1mAnswer: \u001b[0mA mental hospital\n",
      "\u001b[1mAnswer SQUAD-f1: \u001b[0m0.0\n",
      "\n",
      "\u001b[1mQuestion: \u001b[0mWhen?\n",
      "\u001b[1mPredicted Answer: \u001b[0ma prison\n",
      "\u001b[1mAnswer: \u001b[0mA week before Friday.\n",
      "\u001b[1mAnswer SQUAD-f1: \u001b[0m0.0\n",
      "\n",
      "\u001b[1mQuestion: \u001b[0mWhat was he charged with?\n",
      "\u001b[1mPredicted Answer: \u001b[0ma hospital\n",
      "\u001b[1mAnswer: \u001b[0mStalking.\n",
      "\u001b[1mAnswer SQUAD-f1: \u001b[0m0.0\n",
      "\n",
      "\u001b[1mQuestion: \u001b[0mWho?\n",
      "\u001b[1mPredicted Answer: \u001b[0ma hospital\n",
      "\u001b[1mAnswer: \u001b[0mMadonna\n",
      "\u001b[1mAnswer SQUAD-f1: \u001b[0m0.0\n",
      "\n",
      "\u001b[1mQuestion: \u001b[0mWho is the police sergeant in Los Angeles?\n",
      "\u001b[1mPredicted Answer: \u001b[0ma hospital\n",
      "\u001b[1mAnswer: \u001b[0mMitzi Fierro\n",
      "\u001b[1mAnswer SQUAD-f1: \u001b[0m0.0\n",
      "\n",
      "\u001b[1mQuestion: \u001b[0mWas the mental health facility secured?\n",
      "\u001b[1mPredicted Answer: \u001b[0myes\n",
      "\u001b[1mAnswer: \u001b[0mNo.\n",
      "\u001b[1mAnswer SQUAD-f1: \u001b[0m0.0\n",
      "\n",
      "\u001b[1mQuestion: \u001b[0mWhat was he getting help with?\n",
      "\u001b[1mPredicted Answer: \u001b[0ma hospital\n",
      "\u001b[1mAnswer: \u001b[0mbeing acclimated to society again.\n",
      "\u001b[1mAnswer SQUAD-f1: \u001b[0m0.0\n",
      "\n",
      "\u001b[1mQuestion: \u001b[0mWas he watched over by police?\n",
      "\u001b[1mPredicted Answer: \u001b[0myes\n",
      "\u001b[1mAnswer: \u001b[0mNo.\n",
      "\u001b[1mAnswer SQUAD-f1: \u001b[0m0.0\n",
      "\n",
      "\u001b[1mQuestion: \u001b[0mWho then?\n",
      "\u001b[1mPredicted Answer: \u001b[0ma hospital\n",
      "\u001b[1mAnswer: \u001b[0mCivilian staff.\n",
      "\u001b[1mAnswer SQUAD-f1: \u001b[0m0.0\n",
      "\n",
      "\u001b[1mQuestion: \u001b[0mWhere were police looking for him at?\n",
      "\u001b[1mPredicted Answer: \u001b[0mtwo\n",
      "\u001b[1mAnswer: \u001b[0mthe Long Beach area.\n",
      "\u001b[1mAnswer SQUAD-f1: \u001b[0m0.0\n",
      "\n",
      "\u001b[1mQuestion: \u001b[0mWas he considered harmless?\n",
      "\u001b[1mPredicted Answer: \u001b[0myes\n",
      "\u001b[1mAnswer: \u001b[0mNo\n",
      "\u001b[1mAnswer SQUAD-f1: \u001b[0m0.0\n",
      "\n",
      "\u001b[1mQuestion: \u001b[0mHow old is he?\n",
      "\u001b[1mPredicted Answer: \u001b[0ma hospital\n",
      "\u001b[1mAnswer: \u001b[0m54\n",
      "\u001b[1mAnswer SQUAD-f1: \u001b[0m0.0\n",
      "\n",
      "\u001b[1mQuestion: \u001b[0mHow long was he in prison for?\n",
      "\u001b[1mPredicted Answer: \u001b[0ma hospital\n",
      "\u001b[1mAnswer: \u001b[0m10 years\n",
      "\u001b[1mAnswer SQUAD-f1: \u001b[0m0.0\n",
      "\n",
      "\u001b[1mQuestion: \u001b[0mWhich tv anchor was Fierro speaking too?\n",
      "\u001b[1mPredicted Answer: \u001b[0m30\n",
      "\u001b[1mAnswer: \u001b[0mNancy Grace\n",
      "\u001b[1mAnswer SQUAD-f1: \u001b[0m0.0\n",
      "\n",
      "\u001b[1mQuestion: \u001b[0mWill new charges be filed?\n",
      "\u001b[1mPredicted Answer: \u001b[0myes\n",
      "\u001b[1mAnswer: \u001b[0mDid not indicate any.\n",
      "\u001b[1mAnswer SQUAD-f1: \u001b[0m0.0\n",
      "\n",
      "\u001b[1mConversation SQUAD-f1: \u001b[0m0.0\n"
     ]
    },
    {
     "name": "stderr",
     "output_type": "stream",
     "text": [
      "\r"
     ]
    },
    {
     "ename": "RuntimeError",
     "evalue": "No active exception to reraise",
     "output_type": "error",
     "traceback": [
      "\u001b[0;31m---------------------------------------------------------------------------\u001b[0m",
      "\u001b[0;31mRuntimeError\u001b[0m                              Traceback (most recent call last)",
      "Cell \u001b[0;32mIn[47], line 17\u001b[0m\n\u001b[1;32m     13\u001b[0m \u001b[39mfor\u001b[39;00m i \u001b[39min\u001b[39;00m \u001b[39mrange\u001b[39m(\u001b[39mlen\u001b[39m(conversations_results)):\n\u001b[1;32m     14\u001b[0m     print_conversation(conversations_results[\u001b[39m\"\u001b[39m\u001b[39mpassage\u001b[39m\u001b[39m\"\u001b[39m][i], conversations_results[\u001b[39m\"\u001b[39m\u001b[39mquestions\u001b[39m\u001b[39m\"\u001b[39m][i], conversations_results[\u001b[39m\"\u001b[39m\u001b[39manswers\u001b[39m\u001b[39m\"\u001b[39m][i],\n\u001b[1;32m     15\u001b[0m                         conversations_results[\u001b[39m\"\u001b[39m\u001b[39mpredicted_answers\u001b[39m\u001b[39m\"\u001b[39m][i], conversations_results[\u001b[39m\"\u001b[39m\u001b[39manswers_f1_scores\u001b[39m\u001b[39m\"\u001b[39m][i],\n\u001b[1;32m     16\u001b[0m                         conversations_results[\u001b[39m\"\u001b[39m\u001b[39mconversation_f1_score\u001b[39m\u001b[39m\"\u001b[39m][i])\n\u001b[0;32m---> 17\u001b[0m     \u001b[39mraise\u001b[39;00m\n",
      "\u001b[0;31mRuntimeError\u001b[0m: No active exception to reraise"
     ]
    }
   ],
   "source": [
    "if 'tokenizer' not in locals() or 'model' not in locals():\n",
    "    tokenizer, model = make_model(hyperparameters)\n",
    "    model.load_state_dict(torch.load(\"checkpoints/bert_tiny_42_nh.pt\"))\n",
    "\n",
    "if 'dataset' not in locals(): dataset = datasets.load_from_disk(CONFIG.dataset.filtered_dir).shuffle(42)\n",
    "\n",
    "df_test = pd.DataFrame(dataset[\"test\"]).iloc[:10]\n",
    "\n",
    "for source, df in df_test.groupby(by=['source']):\n",
    "    conversations_results = pd.DataFrame(evaluate_conversation(model, tokenizer, df))\n",
    "    conversations_results = conversations_results.sort_values(by='conversation_f1_score', ascending=True, inplace=False).iloc[:5, :].reset_index(drop=True)\n",
    "    # print(conversations_results)\n",
    "    for i in range(len(conversations_results)):\n",
    "        print_conversation(conversations_results[\"passage\"][i], conversations_results[\"questions\"][i], conversations_results[\"answers\"][i],\n",
    "                            conversations_results[\"predicted_answers\"][i], conversations_results[\"answers_f1_scores\"][i],\n",
    "                            conversations_results[\"conversation_f1_score\"][i])\n",
    "        raise"
   ]
  }
 ],
 "metadata": {
  "kernelspec": {
   "display_name": "venv",
   "language": "python",
   "name": "python3"
  },
  "language_info": {
   "codemirror_mode": {
    "name": "ipython",
    "version": 3
   },
   "file_extension": ".py",
   "mimetype": "text/x-python",
   "name": "python",
   "nbconvert_exporter": "python",
   "pygments_lexer": "ipython3",
   "version": "3.11.4"
  },
  "orig_nbformat": 4
 },
 "nbformat": 4,
 "nbformat_minor": 2
}
